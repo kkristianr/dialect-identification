{
 "cells": [
  {
   "cell_type": "code",
   "execution_count": 104,
   "metadata": {},
   "outputs": [],
   "source": [
    "import pandas as pd\n",
    "import numpy as np"
   ]
  },
  {
   "cell_type": "markdown",
   "metadata": {},
   "source": [
    "### Extraction of languages"
   ]
  },
  {
   "cell_type": "code",
   "execution_count": 105,
   "metadata": {},
   "outputs": [],
   "source": [
    "train = pd.read_csv('dialect-identification/data/raw/dslcc4/DSL-TRAIN.TXT', sep='\\t', header=None)\n",
    "test = pd.read_csv('dialect-identification/data/raw/dslcc4/DSL-TEST-GOLD.TXT', sep='\\t', header=None)\n",
    "dev = pd.read_csv('dialect-identification/data/raw/dslcc4/DSL-DEV.TXT', sep='\\t', header=None)\n",
    "\n",
    "sets = [train, test, dev]"
   ]
  },
  {
   "cell_type": "code",
   "execution_count": 106,
   "metadata": {},
   "outputs": [],
   "source": [
    "keep = ['es-ES', 'sr', 'hr', 'bs', 'es-PE', 'es-AR' , 'pt-PT', 'pt-BR']\n",
    "\n",
    "for i in range(len(sets)):\n",
    "    sets[i] = sets[i][sets[i][1].isin(keep)]\n"
   ]
  },
  {
   "cell_type": "code",
   "execution_count": 107,
   "metadata": {},
   "outputs": [
    {
     "name": "stderr",
     "output_type": "stream",
     "text": [
      "/var/folders/8v/5_c7kn_13jsgmgqz56r3yx440000gp/T/ipykernel_8456/2141305198.py:24: SettingWithCopyWarning: \n",
      "A value is trying to be set on a copy of a slice from a DataFrame.\n",
      "Try using .loc[row_indexer,col_indexer] = value instead\n",
      "\n",
      "See the caveats in the documentation: https://pandas.pydata.org/pandas-docs/stable/user_guide/indexing.html#returning-a-view-versus-a-copy\n",
      "  sets[i]['group'] = sets[i].apply(assign_language_group, axis=1)\n",
      "/var/folders/8v/5_c7kn_13jsgmgqz56r3yx440000gp/T/ipykernel_8456/2141305198.py:24: SettingWithCopyWarning: \n",
      "A value is trying to be set on a copy of a slice from a DataFrame.\n",
      "Try using .loc[row_indexer,col_indexer] = value instead\n",
      "\n",
      "See the caveats in the documentation: https://pandas.pydata.org/pandas-docs/stable/user_guide/indexing.html#returning-a-view-versus-a-copy\n",
      "  sets[i]['group'] = sets[i].apply(assign_language_group, axis=1)\n",
      "/var/folders/8v/5_c7kn_13jsgmgqz56r3yx440000gp/T/ipykernel_8456/2141305198.py:24: SettingWithCopyWarning: \n",
      "A value is trying to be set on a copy of a slice from a DataFrame.\n",
      "Try using .loc[row_indexer,col_indexer] = value instead\n",
      "\n",
      "See the caveats in the documentation: https://pandas.pydata.org/pandas-docs/stable/user_guide/indexing.html#returning-a-view-versus-a-copy\n",
      "  sets[i]['group'] = sets[i].apply(assign_language_group, axis=1)\n"
     ]
    }
   ],
   "source": [
    "def assign_language_group(row):\n",
    "    \"\"\"\n",
    "    Assigns new column \"group\" to a given language.\n",
    "\n",
    "    Parameters\n",
    "    ----------\n",
    "    row : pandas.Series\n",
    "        A row of the DataFrame.\n",
    "    \n",
    "    Returns\n",
    "    -------\n",
    "    str\n",
    "        The group of the language.\n",
    "\n",
    "    \"\"\"\n",
    "    if row[1] in ['es-ES', 'es-PE', 'es-AR']:\n",
    "        return 'es'\n",
    "    elif row[1] in ['pt-PT', 'pt-BR']:\n",
    "        return 'pt'\n",
    "    elif row[1] in ['hr', 'bs', 'sr']:\n",
    "        return 'bks'\n",
    "        \n",
    "for i in range(len(sets)):\n",
    "    sets[i]['group'] = sets[i].apply(assign_language_group, axis=1)\n"
   ]
  },
  {
   "cell_type": "markdown",
   "metadata": {},
   "source": [
    "### Adding german dialects from a different data set"
   ]
  },
  {
   "cell_type": "code",
   "execution_count": 108,
   "metadata": {},
   "outputs": [],
   "source": [
    "train_swiss = pd.read_csv('dialect-identification/data/swiss-dialects/train.txt', sep='\\t', header=None)\n",
    "dev_swiss = pd.read_csv('dialect-identification/data/swiss-dialects/dev.txt', sep='\\t', header=None)\n",
    "train_swiss['group'] = 'GER'\n",
    "dev_swiss['group'] = 'GER'"
   ]
  },
  {
   "cell_type": "code",
   "execution_count": 109,
   "metadata": {},
   "outputs": [],
   "source": [
    "train = pd.concat([sets[0], train_swiss])\n",
    "test = pd.concat([sets[2], dev_swiss])\n",
    "train = pd.concat([train,sets[1]])\n"
   ]
  },
  {
   "cell_type": "code",
   "execution_count": 110,
   "metadata": {},
   "outputs": [],
   "source": [
    "#train.to_csv('data/all/train.csv', index=False)\n",
    "#test.to_csv('data/all/test.csv', index=False)"
   ]
  },
  {
   "cell_type": "markdown",
   "metadata": {},
   "source": [
    "## Preprocessing"
   ]
  },
  {
   "cell_type": "code",
   "execution_count": 111,
   "metadata": {},
   "outputs": [],
   "source": [
    "train_prepro = train.copy()\n",
    "test_prepro = test.copy()\n",
    "sets = [train_prepro, test_prepro]"
   ]
  },
  {
   "cell_type": "code",
   "execution_count": 112,
   "metadata": {},
   "outputs": [],
   "source": [
    "import string\n",
    "import re\n",
    "import random\n",
    "\n",
    "def preprocess_text(text):\n",
    "    \"\"\"\n",
    "    Preprocesses a text by removing all unnecessary characters. Keep characters over letters though and do not lowercase.\n",
    "    \"\"\"\n",
    "\n",
    "    text = text.strip()\n",
    "    text = re.sub(f'[{re.escape(string.punctuation)}]', '', text)\n",
    "    text = re.sub(r\"http\\S+\", \"\", text)\n",
    "    #text = re.sub(\"[^A-Za-z]+\", \" \", text)\n",
    "    text = re.sub(\"[^\\w]+\", \" \", text)\n",
    "    text = re.sub(r'(\\d+)', ' ', text)\n",
    "    text = re.sub(r'(\\s+)', ' ', text)\n",
    "    return text\n"
   ]
  },
  {
   "cell_type": "code",
   "execution_count": 113,
   "metadata": {},
   "outputs": [],
   "source": [
    "for i in range(len(sets)):\n",
    "    sets[i][0] = sets[i][0].apply(preprocess_text)"
   ]
  },
  {
   "cell_type": "code",
   "execution_count": 114,
   "metadata": {},
   "outputs": [
    {
     "data": {
      "text/plain": [
       "group\n",
       "bks    5916\n",
       "es     5747\n",
       "GER    4530\n",
       "pt     3923\n",
       "Name: count, dtype: int64"
      ]
     },
     "execution_count": 114,
     "metadata": {},
     "output_type": "execute_result"
    }
   ],
   "source": [
    "test_prepro['group'].value_counts()"
   ]
  },
  {
   "cell_type": "code",
   "execution_count": 115,
   "metadata": {},
   "outputs": [
    {
     "data": {
      "text/html": [
       "<div>\n",
       "<style scoped>\n",
       "    .dataframe tbody tr th:only-of-type {\n",
       "        vertical-align: middle;\n",
       "    }\n",
       "\n",
       "    .dataframe tbody tr th {\n",
       "        vertical-align: top;\n",
       "    }\n",
       "\n",
       "    .dataframe thead th {\n",
       "        text-align: right;\n",
       "    }\n",
       "</style>\n",
       "<table border=\"1\" class=\"dataframe\">\n",
       "  <thead>\n",
       "    <tr style=\"text-align: right;\">\n",
       "      <th></th>\n",
       "      <th>TEXT</th>\n",
       "      <th>VARIETY</th>\n",
       "      <th>GROUP</th>\n",
       "    </tr>\n",
       "  </thead>\n",
       "  <tbody>\n",
       "    <tr>\n",
       "      <th>13345</th>\n",
       "      <td>Projektant Peković izvijestio je gradonačelnik...</td>\n",
       "      <td>hr</td>\n",
       "      <td>bks</td>\n",
       "    </tr>\n",
       "    <tr>\n",
       "      <th>13346</th>\n",
       "      <td>As declarações de Juppé foram posteriormente d...</td>\n",
       "      <td>pt-PT</td>\n",
       "      <td>pt</td>\n",
       "    </tr>\n",
       "    <tr>\n",
       "      <th>13347</th>\n",
       "      <td>La puesta en marcha de Lanbide es consecuencia...</td>\n",
       "      <td>es-ES</td>\n",
       "      <td>es</td>\n",
       "    </tr>\n",
       "    <tr>\n",
       "      <th>13349</th>\n",
       "      <td>La Asociación Brasileña de la Industria Produc...</td>\n",
       "      <td>es-AR</td>\n",
       "      <td>es</td>\n",
       "    </tr>\n",
       "    <tr>\n",
       "      <th>13351</th>\n",
       "      <td>Premijer i ministar unutrašnjih poslova Ivica ...</td>\n",
       "      <td>bs</td>\n",
       "      <td>bks</td>\n",
       "    </tr>\n",
       "  </tbody>\n",
       "</table>\n",
       "</div>"
      ],
      "text/plain": [
       "                                                    TEXT VARIETY GROUP\n",
       "13345  Projektant Peković izvijestio je gradonačelnik...      hr   bks\n",
       "13346  As declarações de Juppé foram posteriormente d...   pt-PT    pt\n",
       "13347  La puesta en marcha de Lanbide es consecuencia...   es-ES    es\n",
       "13349  La Asociación Brasileña de la Industria Produc...   es-AR    es\n",
       "13351  Premijer i ministar unutrašnjih poslova Ivica ...      bs   bks"
      ]
     },
     "execution_count": 115,
     "metadata": {},
     "output_type": "execute_result"
    }
   ],
   "source": [
    "train_prepro.rename(columns={'group':'GROUP', 1:'VARIETY', 0:'TEXT'}, inplace=True)\n",
    "test_prepro.rename(columns={'group':'GROUP', 1:'VARIETY', 0:'TEXT'}, inplace=True)\n",
    "\n",
    "train_prepro.to_csv('dialect-identification/data/all/train_prepro.csv', index=False)\n",
    "test_prepro.to_csv('dialect-identification/data/all/test_prepro.csv', index=False)\n",
    "train_prepro.tail()"
   ]
  }
 ],
 "metadata": {
  "kernelspec": {
   "display_name": "textualtitans_nlp",
   "language": "python",
   "name": "python3"
  },
  "language_info": {
   "codemirror_mode": {
    "name": "ipython",
    "version": 3
   },
   "file_extension": ".py",
   "mimetype": "text/x-python",
   "name": "python",
   "nbconvert_exporter": "python",
   "pygments_lexer": "ipython3",
   "version": "3.11.0"
  }
 },
 "nbformat": 4,
 "nbformat_minor": 2
}
